{
 "cells": [
  {
   "cell_type": "code",
   "execution_count": 4,
   "metadata": {},
   "outputs": [],
   "source": [
    "%reload_ext autoreload\n",
    "%autoreload 2\n",
    "%matplotlib inline\n",
    "\n",
    "import pandas as pd\n",
    "import numpy as np\n",
    "from datetime import datetime\n",
    "import matplotlib.pyplot as plt\n",
    "\n",
    "from sklearn import cluster, metrics, decomposition, preprocessing\n",
    "\n",
    "import plotly.express as px\n",
    "import plotly.graph_objects as go\n",
    "\n",
    "# Import des modules contenant les fonctions utilitaires\n",
    "import src.data_helpers as dth"
   ]
  },
  {
   "cell_type": "code",
   "execution_count": 2,
   "metadata": {},
   "outputs": [],
   "source": [
    "# Réglage des graphiques\n",
    "plt.style.use('seaborn-whitegrid')\n",
    "\n",
    "plt.rc('font', size=12)\n",
    "plt.rc('axes', titlesize=20)\n",
    "plt.rc('axes', labelsize=20)\n",
    "plt.rc('xtick', labelsize=12)\n",
    "plt.rc('ytick', labelsize=12)\n",
    "plt.rc('legend', fontsize=12)\n",
    "\n",
    "dims_fig = (25,20)"
   ]
  },
  {
   "cell_type": "code",
   "execution_count": 62,
   "metadata": {},
   "outputs": [],
   "source": [
    "orders_merge = pd.read_csv('merge.csv', sep=',')"
   ]
  },
  {
   "cell_type": "code",
   "execution_count": 63,
   "metadata": {},
   "outputs": [],
   "source": [
    "rfm = orders_merge.groupby('customer_unique_id').agg(\n",
    "    recence = (\"order_purchase_timestamp\", \"max\"),\n",
    "    frequence = (\"customer_id\", \"count\"),\n",
    "    montant_cumulé = (\"payment_value\", \"sum\")\n",
    ")"
   ]
  },
  {
   "cell_type": "code",
   "execution_count": 64,
   "metadata": {},
   "outputs": [
    {
     "data": {
      "text/html": [
       "<div>\n",
       "<style scoped>\n",
       "    .dataframe tbody tr th:only-of-type {\n",
       "        vertical-align: middle;\n",
       "    }\n",
       "\n",
       "    .dataframe tbody tr th {\n",
       "        vertical-align: top;\n",
       "    }\n",
       "\n",
       "    .dataframe thead th {\n",
       "        text-align: right;\n",
       "    }\n",
       "</style>\n",
       "<table border=\"1\" class=\"dataframe\">\n",
       "  <thead>\n",
       "    <tr style=\"text-align: right;\">\n",
       "      <th></th>\n",
       "      <th>recence</th>\n",
       "      <th>frequence</th>\n",
       "      <th>montant_cumulé</th>\n",
       "    </tr>\n",
       "    <tr>\n",
       "      <th>customer_unique_id</th>\n",
       "      <th></th>\n",
       "      <th></th>\n",
       "      <th></th>\n",
       "    </tr>\n",
       "  </thead>\n",
       "  <tbody>\n",
       "    <tr>\n",
       "      <th>0000366f3b9a7992bf8c76cfdf3221e2</th>\n",
       "      <td>160</td>\n",
       "      <td>1</td>\n",
       "      <td>141.90</td>\n",
       "    </tr>\n",
       "    <tr>\n",
       "      <th>0000b849f77a49e4a4ce2b2a4ca5be3f</th>\n",
       "      <td>163</td>\n",
       "      <td>1</td>\n",
       "      <td>27.19</td>\n",
       "    </tr>\n",
       "    <tr>\n",
       "      <th>0000f46a3911fa3c0805444483337064</th>\n",
       "      <td>585</td>\n",
       "      <td>1</td>\n",
       "      <td>86.22</td>\n",
       "    </tr>\n",
       "    <tr>\n",
       "      <th>0000f6ccb0745a6a4b88665a16c9f078</th>\n",
       "      <td>369</td>\n",
       "      <td>1</td>\n",
       "      <td>43.62</td>\n",
       "    </tr>\n",
       "    <tr>\n",
       "      <th>0004aac84e0df4da2b147fca70cf8255</th>\n",
       "      <td>336</td>\n",
       "      <td>1</td>\n",
       "      <td>196.89</td>\n",
       "    </tr>\n",
       "    <tr>\n",
       "      <th>...</th>\n",
       "      <td>...</td>\n",
       "      <td>...</td>\n",
       "      <td>...</td>\n",
       "    </tr>\n",
       "    <tr>\n",
       "      <th>fffcf5a5ff07b0908bd4e2dbc735a684</th>\n",
       "      <td>495</td>\n",
       "      <td>1</td>\n",
       "      <td>2067.42</td>\n",
       "    </tr>\n",
       "    <tr>\n",
       "      <th>fffea47cd6d3cc0a88bd621562a9d061</th>\n",
       "      <td>310</td>\n",
       "      <td>1</td>\n",
       "      <td>84.58</td>\n",
       "    </tr>\n",
       "    <tr>\n",
       "      <th>ffff371b4d645b6ecea244b27531430a</th>\n",
       "      <td>617</td>\n",
       "      <td>1</td>\n",
       "      <td>112.46</td>\n",
       "    </tr>\n",
       "    <tr>\n",
       "      <th>ffff5962728ec6157033ef9805bacc48</th>\n",
       "      <td>168</td>\n",
       "      <td>1</td>\n",
       "      <td>133.69</td>\n",
       "    </tr>\n",
       "    <tr>\n",
       "      <th>ffffd2657e2aad2907e67c3e9daecbeb</th>\n",
       "      <td>532</td>\n",
       "      <td>1</td>\n",
       "      <td>71.56</td>\n",
       "    </tr>\n",
       "  </tbody>\n",
       "</table>\n",
       "<p>96096 rows × 3 columns</p>\n",
       "</div>"
      ],
      "text/plain": [
       "                                  recence  frequence  montant_cumulé\n",
       "customer_unique_id                                                  \n",
       "0000366f3b9a7992bf8c76cfdf3221e2      160          1          141.90\n",
       "0000b849f77a49e4a4ce2b2a4ca5be3f      163          1           27.19\n",
       "0000f46a3911fa3c0805444483337064      585          1           86.22\n",
       "0000f6ccb0745a6a4b88665a16c9f078      369          1           43.62\n",
       "0004aac84e0df4da2b147fca70cf8255      336          1          196.89\n",
       "...                                   ...        ...             ...\n",
       "fffcf5a5ff07b0908bd4e2dbc735a684      495          1         2067.42\n",
       "fffea47cd6d3cc0a88bd621562a9d061      310          1           84.58\n",
       "ffff371b4d645b6ecea244b27531430a      617          1          112.46\n",
       "ffff5962728ec6157033ef9805bacc48      168          1          133.69\n",
       "ffffd2657e2aad2907e67c3e9daecbeb      532          1           71.56\n",
       "\n",
       "[96096 rows x 3 columns]"
      ]
     },
     "execution_count": 64,
     "metadata": {},
     "output_type": "execute_result"
    }
   ],
   "source": [
    "date_format = '%Y-%m-%d %H:%M:%S'\n",
    "max_date = datetime.strptime(rfm['recence'].max(), date_format)\n",
    "rfm['recence'] = rfm['recence'].transform(lambda x: (max_date - datetime.strptime(x, date_format)).days)\n",
    "rfm"
   ]
  },
  {
   "cell_type": "code",
   "execution_count": 65,
   "metadata": {},
   "outputs": [
    {
     "data": {
      "text/html": [
       "<div>\n",
       "<style scoped>\n",
       "    .dataframe tbody tr th:only-of-type {\n",
       "        vertical-align: middle;\n",
       "    }\n",
       "\n",
       "    .dataframe tbody tr th {\n",
       "        vertical-align: top;\n",
       "    }\n",
       "\n",
       "    .dataframe thead th {\n",
       "        text-align: right;\n",
       "    }\n",
       "</style>\n",
       "<table border=\"1\" class=\"dataframe\">\n",
       "  <thead>\n",
       "    <tr style=\"text-align: right;\">\n",
       "      <th></th>\n",
       "      <th>recence</th>\n",
       "      <th>frequence</th>\n",
       "      <th>montant_cumulé</th>\n",
       "    </tr>\n",
       "    <tr>\n",
       "      <th>customer_unique_id</th>\n",
       "      <th></th>\n",
       "      <th></th>\n",
       "      <th></th>\n",
       "    </tr>\n",
       "  </thead>\n",
       "  <tbody>\n",
       "    <tr>\n",
       "      <th>0000f46a3911fa3c0805444483337064</th>\n",
       "      <td>585</td>\n",
       "      <td>1</td>\n",
       "      <td>86.22</td>\n",
       "    </tr>\n",
       "    <tr>\n",
       "      <th>0005e1862207bf6ccc02e4228effd9a0</th>\n",
       "      <td>591</td>\n",
       "      <td>1</td>\n",
       "      <td>150.12</td>\n",
       "    </tr>\n",
       "    <tr>\n",
       "      <th>00115fc7123b5310cf6d3a3aa932699e</th>\n",
       "      <td>633</td>\n",
       "      <td>1</td>\n",
       "      <td>76.11</td>\n",
       "    </tr>\n",
       "    <tr>\n",
       "      <th>0011805441c0d1b68b48002f1d005526</th>\n",
       "      <td>541</td>\n",
       "      <td>1</td>\n",
       "      <td>297.14</td>\n",
       "    </tr>\n",
       "    <tr>\n",
       "      <th>00191a9719ef48ebb5860b130347bf33</th>\n",
       "      <td>546</td>\n",
       "      <td>1</td>\n",
       "      <td>58.86</td>\n",
       "    </tr>\n",
       "    <tr>\n",
       "      <th>...</th>\n",
       "      <td>...</td>\n",
       "      <td>...</td>\n",
       "      <td>...</td>\n",
       "    </tr>\n",
       "    <tr>\n",
       "      <th>ffebb6424578e7bb153322da9d65634f</th>\n",
       "      <td>639</td>\n",
       "      <td>1</td>\n",
       "      <td>665.70</td>\n",
       "    </tr>\n",
       "    <tr>\n",
       "      <th>ffedff0547d809c90c05c2691c51f9b7</th>\n",
       "      <td>566</td>\n",
       "      <td>1</td>\n",
       "      <td>32.42</td>\n",
       "    </tr>\n",
       "    <tr>\n",
       "      <th>ffef0ffa736c7b3d9af741611089729b</th>\n",
       "      <td>505</td>\n",
       "      <td>1</td>\n",
       "      <td>139.07</td>\n",
       "    </tr>\n",
       "    <tr>\n",
       "      <th>ffff371b4d645b6ecea244b27531430a</th>\n",
       "      <td>617</td>\n",
       "      <td>1</td>\n",
       "      <td>112.46</td>\n",
       "    </tr>\n",
       "    <tr>\n",
       "      <th>ffffd2657e2aad2907e67c3e9daecbeb</th>\n",
       "      <td>532</td>\n",
       "      <td>1</td>\n",
       "      <td>71.56</td>\n",
       "    </tr>\n",
       "  </tbody>\n",
       "</table>\n",
       "<p>11368 rows × 3 columns</p>\n",
       "</div>"
      ],
      "text/plain": [
       "                                  recence  frequence  montant_cumulé\n",
       "customer_unique_id                                                  \n",
       "0000f46a3911fa3c0805444483337064      585          1           86.22\n",
       "0005e1862207bf6ccc02e4228effd9a0      591          1          150.12\n",
       "00115fc7123b5310cf6d3a3aa932699e      633          1           76.11\n",
       "0011805441c0d1b68b48002f1d005526      541          1          297.14\n",
       "00191a9719ef48ebb5860b130347bf33      546          1           58.86\n",
       "...                                   ...        ...             ...\n",
       "ffebb6424578e7bb153322da9d65634f      639          1          665.70\n",
       "ffedff0547d809c90c05c2691c51f9b7      566          1           32.42\n",
       "ffef0ffa736c7b3d9af741611089729b      505          1          139.07\n",
       "ffff371b4d645b6ecea244b27531430a      617          1          112.46\n",
       "ffffd2657e2aad2907e67c3e9daecbeb      532          1           71.56\n",
       "\n",
       "[11368 rows x 3 columns]"
      ]
     },
     "execution_count": 65,
     "metadata": {},
     "output_type": "execute_result"
    }
   ],
   "source": [
    "f0 = rfm[rfm['recence'] > 500]\n",
    "f0"
   ]
  },
  {
   "cell_type": "code",
   "execution_count": 66,
   "metadata": {},
   "outputs": [],
   "source": [
    "s0 = preprocessing.StandardScaler().fit(f0)\n",
    "f0_std = pd.DataFrame(\n",
    "    s0.transform(f0),\n",
    "    columns=f0.columns\n",
    ")"
   ]
  },
  {
   "cell_type": "code",
   "execution_count": 67,
   "metadata": {},
   "outputs": [],
   "source": [
    "m0 = cluster.KMeans(5)\n",
    "c0 = m0.fit_predict(f0_std)"
   ]
  },
  {
   "cell_type": "code",
   "execution_count": 68,
   "metadata": {},
   "outputs": [],
   "source": [
    "f1 = rfm[rfm['recence'] > 470]"
   ]
  },
  {
   "cell_type": "code",
   "execution_count": 69,
   "metadata": {},
   "outputs": [],
   "source": [
    "s1 = preprocessing.StandardScaler().fit(f1)\n",
    "f1_std = pd.DataFrame(\n",
    "    s1.transform(f1),\n",
    "    columns=f1.columns\n",
    ")"
   ]
  },
  {
   "cell_type": "code",
   "execution_count": 70,
   "metadata": {},
   "outputs": [],
   "source": [
    "m1 = cluster.KMeans(5)\n",
    "c1 = m1.fit_predict(f1_std)"
   ]
  },
  {
   "cell_type": "code",
   "execution_count": 71,
   "metadata": {},
   "outputs": [],
   "source": [
    "f1_0_std = pd.DataFrame(\n",
    "    s0.transform(f1),\n",
    "    columns=f1.columns\n",
    ")"
   ]
  },
  {
   "cell_type": "code",
   "execution_count": 72,
   "metadata": {},
   "outputs": [],
   "source": [
    "c1_0 = m0.predict(f1_0_std)"
   ]
  },
  {
   "cell_type": "code",
   "execution_count": 73,
   "metadata": {},
   "outputs": [
    {
     "data": {
      "text/plain": [
       "0.8204920491718937"
      ]
     },
     "execution_count": 73,
     "metadata": {},
     "output_type": "execute_result"
    }
   ],
   "source": [
    "a = metrics.adjusted_rand_score(c1_0, c1)\n",
    "a"
   ]
  },
  {
   "cell_type": "code",
   "execution_count": 49,
   "metadata": {},
   "outputs": [],
   "source": [
    "def calculateAriScore(data, time):\n",
    "    result = []\n",
    "    for i in range (500, time, -time):\n",
    "        # t0\n",
    "        f0 = data[data['recence'] > i]\n",
    "\n",
    "        s0 = preprocessing.StandardScaler().fit(f0)\n",
    "        f0_std = pd.DataFrame(\n",
    "            s0.transform(f0),\n",
    "            columns=f0.columns\n",
    "        )\n",
    "\n",
    "        m0 = cluster.KMeans(5)\n",
    "        c0 = m0.fit_predict(f0_std)\n",
    "\n",
    "        # t1 = t0 + n days\n",
    "        f1 = data[data['recence'] > i-time]\n",
    "\n",
    "        s1 = preprocessing.StandardScaler().fit(f1)\n",
    "        f1_std = pd.DataFrame(\n",
    "            s1.transform(f1),\n",
    "            columns=f1.columns\n",
    "        )\n",
    "\n",
    "        m1 = cluster.KMeans(5)\n",
    "        c1 = m1.fit_predict(f1_std)\n",
    "\n",
    "        # Comparaison entre t0 et t1\n",
    "        f1_0_std = pd.DataFrame(\n",
    "            s0.transform(f1),\n",
    "            columns=f1.columns\n",
    "        )\n",
    "\n",
    "        c1_0 =  m0.predict(f1_0_std)\n",
    "\n",
    "        score = metrics.adjusted_rand_score(c1_0, c1)\n",
    "\n",
    "        result.append(score)\n",
    "    \n",
    "    return result"
   ]
  },
  {
   "cell_type": "code",
   "execution_count": 75,
   "metadata": {},
   "outputs": [
    {
     "data": {
      "text/plain": [
       "[0.8677655440731991,\n",
       " 0.9008776516499173,\n",
       " 0.8865086340292029,\n",
       " 0.8909575496339828,\n",
       " 0.8367586564012435,\n",
       " 0.839126664087998,\n",
       " 0.8143869054355705,\n",
       " 0.8702638326256623,\n",
       " 0.562460090558126,\n",
       " 0.8889118826226364,\n",
       " 0.9260396336512854,\n",
       " 0.8547598869852064,\n",
       " 0.8669075399085452,\n",
       " 0.948903160672579,\n",
       " 0.912736899252271,\n",
       " 0.9225627783753885,\n",
       " 0.9193919778302355,\n",
       " 0.9206745852266548,\n",
       " 0.9298768330433543,\n",
       " 0.9350035868729845,\n",
       " 0.9415923753545058,\n",
       " 0.9475057505539635,\n",
       " 0.9508058928095304,\n",
       " 0.9495721214133882,\n",
       " 0.9566203131419577,\n",
       " 0.9628871157796226,\n",
       " 0.9804142253569919,\n",
       " 0.9661121137394848,\n",
       " 0.41684339983437346,\n",
       " 0.9233294238124661,\n",
       " 0.9932305369564153,\n",
       " 0.9978505952236336,\n",
       " 0.9908512514160511]"
      ]
     },
     "execution_count": 75,
     "metadata": {},
     "output_type": "execute_result"
    }
   ],
   "source": [
    "result = calculateAriScore(rfm, 15)\n",
    "result"
   ]
  }
 ],
 "metadata": {
  "interpreter": {
   "hash": "a50ccb92e890b7b6eda50e12a77437cd970ffed0e6764f486675a0423355b7f1"
  },
  "kernelspec": {
   "display_name": "Python 3.9.7 ('projet_5')",
   "language": "python",
   "name": "python3"
  },
  "language_info": {
   "codemirror_mode": {
    "name": "ipython",
    "version": 3
   },
   "file_extension": ".py",
   "mimetype": "text/x-python",
   "name": "python",
   "nbconvert_exporter": "python",
   "pygments_lexer": "ipython3",
   "version": "3.9.7"
  },
  "orig_nbformat": 4
 },
 "nbformat": 4,
 "nbformat_minor": 2
}
