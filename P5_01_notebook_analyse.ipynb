{
 "cells": [
  {
   "cell_type": "code",
   "execution_count": 1,
   "metadata": {},
   "outputs": [],
   "source": [
    "%reload_ext autoreload\n",
    "%autoreload 2\n",
    "%matplotlib inline\n",
    "\n",
    "import pandas as pd\n",
    "import numpy as np\n",
    "import matplotlib.pyplot as plt\n",
    "\n",
    "\n",
    "\n",
    "# Import des modules contenant les fonctions utilitaires\n",
    "import src.data_helpers as dth"
   ]
  },
  {
   "cell_type": "code",
   "execution_count": null,
   "metadata": {},
   "outputs": [],
   "source": [
    "# Réglage des graphiques\n",
    "plt.style.use('seaborn-whitegrid')\n",
    "\n",
    "plt.rc('font', size=12)\n",
    "plt.rc('axes', titlesize=20)\n",
    "plt.rc('axes', labelsize=20)\n",
    "plt.rc('xtick', labelsize=12)\n",
    "plt.rc('ytick', labelsize=12)\n",
    "plt.rc('legend', fontsize=12)\n",
    "\n",
    "dims_fig = (25,20)"
   ]
  },
  {
   "cell_type": "code",
   "execution_count": null,
   "metadata": {},
   "outputs": [],
   "source": [
    "customers = pd.read_csv('data/olist_customers_dataset.csv', sep=',')\n",
    "geolocation = pd.read_csv('data/olist_geolocation_dataset.csv', sep=',')\n",
    "order_items = pd.read_csv('data/olist_order_items_dataset.csv', sep=',')\n",
    "order_payments = pd.read_csv('data/olist_order_payments_dataset.csv', sep=',')\n",
    "order_reviews = pd.read_csv('data/olist_order_reviews_dataset.csv', sep=',')\n",
    "orders = pd.read_csv('data/olist_orders_dataset.csv', sep=',')\n",
    "products = pd.read_csv('data/olist_products_dataset.csv', sep=',')\n",
    "sellers = pd.read_csv('data/olist_sellers_dataset.csv', sep=',')"
   ]
  },
  {
   "cell_type": "code",
   "execution_count": null,
   "metadata": {},
   "outputs": [],
   "source": [
    "order_payments_agg = order_payments.groupby('order_id').agg({'payment_type': 'first', 'payment_installments': 'first', 'payment_value': 'sum'})\n",
    "order_reviews_agg = order_reviews.groupby('order_id').agg('mean')\n",
    "geolocation_agg = geolocation.groupby('geolocation_zip_code_prefix').agg('mean')\n",
    "order_items_agg = order_items.groupby('order_id').agg({'order_id': 'first', 'product_id': 'first', 'seller_id': 'first', 'shipping_limit_date': 'first', 'price': 'sum', 'freight_value': 'sum'})"
   ]
  },
  {
   "cell_type": "code",
   "execution_count": null,
   "metadata": {},
   "outputs": [],
   "source": [
    "orders_merge = orders.merge(order_payments_agg, how=\"left\", on=\"order_id\", validate=\"1:m\").merge(order_reviews_agg, how=\"left\", on=\"order_id\", validate=\"m:1\")"
   ]
  },
  {
   "cell_type": "code",
   "execution_count": null,
   "metadata": {},
   "outputs": [],
   "source": [
    "sellers_merge = sellers.merge(geolocation_agg, how=\"left\", left_on= ['seller_zip_code_prefix'], right_on=['geolocation_zip_code_prefix'])\n",
    "sellers_merge.rename(columns={\"geolocation_lat\": \"seller_geolocation_lat\", \"geolocation_lng\": \"seller_geolocation_lng\"}, inplace=True)"
   ]
  },
  {
   "cell_type": "code",
   "execution_count": null,
   "metadata": {},
   "outputs": [],
   "source": [
    "order_items_merge = order_items_agg.merge(products, how=\"left\", on=\"product_id\", validate=\"m:1\").merge(sellers_merge, how=\"left\", on=\"seller_id\", validate=\"m:1\")"
   ]
  },
  {
   "cell_type": "code",
   "execution_count": null,
   "metadata": {},
   "outputs": [],
   "source": [
    "customers_merge = customers.merge(geolocation_agg, how=\"left\", left_on= ['customer_zip_code_prefix'], right_on=['geolocation_zip_code_prefix'])\n",
    "customers_merge.rename(columns={\"geolocation_lat\": \"customer_geolocation_lat\", \"geolocation_lng\": \"customer_geolocation_lng\"}, inplace=True)"
   ]
  },
  {
   "cell_type": "code",
   "execution_count": null,
   "metadata": {},
   "outputs": [],
   "source": [
    "orders_merge = orders_merge.merge(customers_merge, how=\"left\", on=\"customer_id\", validate=\"m:1\").merge(order_items_merge, how=\"left\", on=\"order_id\", validate=\"1:1\")"
   ]
  },
  {
   "cell_type": "code",
   "execution_count": null,
   "metadata": {},
   "outputs": [],
   "source": [
    "orders_merge.to_csv('merge.csv', index=False)"
   ]
  }
 ],
 "metadata": {
  "interpreter": {
   "hash": "a50ccb92e890b7b6eda50e12a77437cd970ffed0e6764f486675a0423355b7f1"
  },
  "kernelspec": {
   "display_name": "Python 3.9.7 ('projet_5')",
   "language": "python",
   "name": "python3"
  },
  "language_info": {
   "codemirror_mode": {
    "name": "ipython",
    "version": 3
   },
   "file_extension": ".py",
   "mimetype": "text/x-python",
   "name": "python",
   "nbconvert_exporter": "python",
   "pygments_lexer": "ipython3",
   "version": "3.9.7"
  },
  "orig_nbformat": 4
 },
 "nbformat": 4,
 "nbformat_minor": 2
}
