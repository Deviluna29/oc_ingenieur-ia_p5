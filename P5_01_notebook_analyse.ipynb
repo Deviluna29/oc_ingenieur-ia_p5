{
 "cells": [
  {
   "cell_type": "markdown",
   "metadata": {},
   "source": [
    "# *Notebook d'analyse et de merge*"
   ]
  },
  {
   "cell_type": "markdown",
   "metadata": {},
   "source": [
    "## Sommaire\n",
    "\n",
    "<ol>\n",
    "    <li><a href=\"#\">Import des librairies</a></li>\n",
    "    <li><a href=\"#\">Chargement des données</a></li>\n",
    "    <li><a href=\"#\">Analyse et merge des données</a></li>\n",
    "</ol>"
   ]
  },
  {
   "cell_type": "markdown",
   "metadata": {},
   "source": [
    "## Import des librairies"
   ]
  },
  {
   "cell_type": "code",
   "execution_count": 1,
   "metadata": {},
   "outputs": [],
   "source": [
    "%reload_ext autoreload\n",
    "%autoreload 2\n",
    "%matplotlib inline\n",
    "\n",
    "import pandas as pd\n",
    "import matplotlib.pyplot as plt"
   ]
  },
  {
   "cell_type": "code",
   "execution_count": 2,
   "metadata": {},
   "outputs": [],
   "source": [
    "# Réglage des graphiques\n",
    "plt.style.use('seaborn-whitegrid')\n",
    "\n",
    "plt.rc('font', size=12)\n",
    "plt.rc('axes', titlesize=20)\n",
    "plt.rc('axes', labelsize=20)\n",
    "plt.rc('xtick', labelsize=12)\n",
    "plt.rc('ytick', labelsize=12)\n",
    "plt.rc('legend', fontsize=12)\n",
    "\n",
    "dims_fig = (25,20)"
   ]
  },
  {
   "cell_type": "markdown",
   "metadata": {},
   "source": [
    "## Chargement des données"
   ]
  },
  {
   "cell_type": "code",
   "execution_count": 3,
   "metadata": {},
   "outputs": [],
   "source": [
    "customers = pd.read_csv('data/olist_customers_dataset.csv', sep=',')\n",
    "geolocation = pd.read_csv('data/olist_geolocation_dataset.csv', sep=',')\n",
    "order_items = pd.read_csv('data/olist_order_items_dataset.csv', sep=',')\n",
    "order_payments = pd.read_csv('data/olist_order_payments_dataset.csv', sep=',')\n",
    "order_reviews = pd.read_csv('data/olist_order_reviews_dataset.csv', sep=',')\n",
    "orders = pd.read_csv('data/olist_orders_dataset.csv', sep=',')\n",
    "products = pd.read_csv('data/olist_products_dataset.csv', sep=',')\n",
    "sellers = pd.read_csv('data/olist_sellers_dataset.csv', sep=',')"
   ]
  },
  {
   "cell_type": "markdown",
   "metadata": {},
   "source": [
    "## Analyse et merge des données"
   ]
  },
  {
   "cell_type": "markdown",
   "metadata": {},
   "source": [
    "Voici le schéma de liaisons entre les données :"
   ]
  },
  {
   "cell_type": "markdown",
   "metadata": {},
   "source": [
    "![data_schema.PNG](data/img/data_schema.PNG)"
   ]
  },
  {
   "cell_type": "markdown",
   "metadata": {},
   "source": [
    "Il y a des informations sur :\n",
    "- Les clients\n",
    "- Les commandes par clients\n",
    "- Les reviews par commandes\n",
    "- Les produits des commandes\n",
    "- Les vendeurs\n",
    "- La géolocalisation des clients et des vendeurs\n",
    "\n",
    "L'objectif est de tout regrouper dans un fichier unique.\n",
    "\n",
    "Le merge sera effectué pour qu'à la fin notre fichier contienne une seule ligne par commande, on va sommer, moyenner ou récupérer qu'une seule partie de certaines informations."
   ]
  },
  {
   "cell_type": "code",
   "execution_count": 4,
   "metadata": {},
   "outputs": [],
   "source": [
    "order_payments_agg = order_payments.groupby('order_id').agg({'payment_type': 'first', 'payment_installments': 'first', 'payment_value': 'sum'})\n",
    "order_reviews_agg = order_reviews.groupby('order_id').agg('mean')\n",
    "geolocation_agg = geolocation.groupby('geolocation_zip_code_prefix').agg('mean')\n",
    "order_items_agg = order_items.groupby('order_id').agg({'order_id': 'first', 'product_id': 'first', 'seller_id': 'first', 'shipping_limit_date': 'first', 'price': 'sum', 'freight_value': 'sum'})"
   ]
  },
  {
   "cell_type": "code",
   "execution_count": 5,
   "metadata": {},
   "outputs": [],
   "source": [
    "orders_merge = orders.merge(order_payments_agg, how=\"left\", on=\"order_id\", validate=\"1:m\").merge(order_reviews_agg, how=\"left\", on=\"order_id\", validate=\"m:1\")"
   ]
  },
  {
   "cell_type": "code",
   "execution_count": 6,
   "metadata": {},
   "outputs": [],
   "source": [
    "sellers_merge = sellers.merge(geolocation_agg, how=\"left\", left_on= ['seller_zip_code_prefix'], right_on=['geolocation_zip_code_prefix'])\n",
    "sellers_merge.rename(columns={\"geolocation_lat\": \"seller_geolocation_lat\", \"geolocation_lng\": \"seller_geolocation_lng\"}, inplace=True)"
   ]
  },
  {
   "cell_type": "code",
   "execution_count": 7,
   "metadata": {},
   "outputs": [],
   "source": [
    "order_items_merge = order_items_agg.merge(products, how=\"left\", on=\"product_id\", validate=\"m:1\").merge(sellers_merge, how=\"left\", on=\"seller_id\", validate=\"m:1\")"
   ]
  },
  {
   "cell_type": "code",
   "execution_count": 8,
   "metadata": {},
   "outputs": [],
   "source": [
    "customers_merge = customers.merge(geolocation_agg, how=\"left\", left_on= ['customer_zip_code_prefix'], right_on=['geolocation_zip_code_prefix'])\n",
    "customers_merge.rename(columns={\"geolocation_lat\": \"customer_geolocation_lat\", \"geolocation_lng\": \"customer_geolocation_lng\"}, inplace=True)"
   ]
  },
  {
   "cell_type": "code",
   "execution_count": 9,
   "metadata": {},
   "outputs": [],
   "source": [
    "orders_merge = orders_merge.merge(customers_merge, how=\"left\", on=\"customer_id\", validate=\"m:1\").merge(order_items_merge, how=\"left\", on=\"order_id\", validate=\"1:1\")"
   ]
  },
  {
   "cell_type": "code",
   "execution_count": 10,
   "metadata": {},
   "outputs": [
    {
     "name": "stdout",
     "output_type": "stream",
     "text": [
      "<class 'pandas.core.frame.DataFrame'>\n",
      "Int64Index: 99441 entries, 0 to 99440\n",
      "Data columns (total 36 columns):\n",
      " #   Column                         Non-Null Count  Dtype  \n",
      "---  ------                         --------------  -----  \n",
      " 0   order_id                       99441 non-null  object \n",
      " 1   customer_id                    99441 non-null  object \n",
      " 2   order_status                   99441 non-null  object \n",
      " 3   order_purchase_timestamp       99441 non-null  object \n",
      " 4   order_approved_at              99281 non-null  object \n",
      " 5   order_delivered_carrier_date   97658 non-null  object \n",
      " 6   order_delivered_customer_date  96476 non-null  object \n",
      " 7   order_estimated_delivery_date  99441 non-null  object \n",
      " 8   payment_type                   99440 non-null  object \n",
      " 9   payment_installments           99440 non-null  float64\n",
      " 10  payment_value                  99440 non-null  float64\n",
      " 11  review_score                   98673 non-null  float64\n",
      " 12  customer_unique_id             99441 non-null  object \n",
      " 13  customer_zip_code_prefix       99441 non-null  int64  \n",
      " 14  customer_city                  99441 non-null  object \n",
      " 15  customer_state                 99441 non-null  object \n",
      " 16  customer_geolocation_lat       99163 non-null  float64\n",
      " 17  customer_geolocation_lng       99163 non-null  float64\n",
      " 18  product_id                     98666 non-null  object \n",
      " 19  seller_id                      98666 non-null  object \n",
      " 20  shipping_limit_date            98666 non-null  object \n",
      " 21  price                          98666 non-null  float64\n",
      " 22  freight_value                  98666 non-null  float64\n",
      " 23  product_category_name          97250 non-null  object \n",
      " 24  product_name_lenght            97250 non-null  float64\n",
      " 25  product_description_lenght     97250 non-null  float64\n",
      " 26  product_photos_qty             97250 non-null  float64\n",
      " 27  product_weight_g               98650 non-null  float64\n",
      " 28  product_length_cm              98650 non-null  float64\n",
      " 29  product_height_cm              98650 non-null  float64\n",
      " 30  product_width_cm               98650 non-null  float64\n",
      " 31  seller_zip_code_prefix         98666 non-null  float64\n",
      " 32  seller_city                    98666 non-null  object \n",
      " 33  seller_state                   98666 non-null  object \n",
      " 34  seller_geolocation_lat         98448 non-null  float64\n",
      " 35  seller_geolocation_lng         98448 non-null  float64\n",
      "dtypes: float64(17), int64(1), object(18)\n",
      "memory usage: 28.1+ MB\n"
     ]
    }
   ],
   "source": [
    "orders_merge.info()"
   ]
  },
  {
   "cell_type": "code",
   "execution_count": 13,
   "metadata": {},
   "outputs": [
    {
     "data": {
      "text/html": [
       "<div>\n",
       "<style scoped>\n",
       "    .dataframe tbody tr th:only-of-type {\n",
       "        vertical-align: middle;\n",
       "    }\n",
       "\n",
       "    .dataframe tbody tr th {\n",
       "        vertical-align: top;\n",
       "    }\n",
       "\n",
       "    .dataframe thead th {\n",
       "        text-align: right;\n",
       "    }\n",
       "</style>\n",
       "<table border=\"1\" class=\"dataframe\">\n",
       "  <thead>\n",
       "    <tr style=\"text-align: right;\">\n",
       "      <th></th>\n",
       "      <th>order_id</th>\n",
       "      <th>customer_id</th>\n",
       "      <th>order_status</th>\n",
       "      <th>order_purchase_timestamp</th>\n",
       "      <th>order_approved_at</th>\n",
       "      <th>order_delivered_carrier_date</th>\n",
       "      <th>order_delivered_customer_date</th>\n",
       "      <th>order_estimated_delivery_date</th>\n",
       "      <th>payment_type</th>\n",
       "      <th>payment_installments</th>\n",
       "      <th>...</th>\n",
       "      <th>product_photos_qty</th>\n",
       "      <th>product_weight_g</th>\n",
       "      <th>product_length_cm</th>\n",
       "      <th>product_height_cm</th>\n",
       "      <th>product_width_cm</th>\n",
       "      <th>seller_zip_code_prefix</th>\n",
       "      <th>seller_city</th>\n",
       "      <th>seller_state</th>\n",
       "      <th>seller_geolocation_lat</th>\n",
       "      <th>seller_geolocation_lng</th>\n",
       "    </tr>\n",
       "  </thead>\n",
       "  <tbody>\n",
       "    <tr>\n",
       "      <th>0</th>\n",
       "      <td>e481f51cbdc54678b7cc49136f2d6af7</td>\n",
       "      <td>9ef432eb6251297304e76186b10a928d</td>\n",
       "      <td>delivered</td>\n",
       "      <td>2017-10-02 10:56:33</td>\n",
       "      <td>2017-10-02 11:07:15</td>\n",
       "      <td>2017-10-04 19:55:00</td>\n",
       "      <td>2017-10-10 21:25:13</td>\n",
       "      <td>2017-10-18 00:00:00</td>\n",
       "      <td>credit_card</td>\n",
       "      <td>1.0</td>\n",
       "      <td>...</td>\n",
       "      <td>4.0</td>\n",
       "      <td>500.0</td>\n",
       "      <td>19.0</td>\n",
       "      <td>8.0</td>\n",
       "      <td>13.0</td>\n",
       "      <td>9350.0</td>\n",
       "      <td>maua</td>\n",
       "      <td>SP</td>\n",
       "      <td>-23.680729</td>\n",
       "      <td>-46.444238</td>\n",
       "    </tr>\n",
       "    <tr>\n",
       "      <th>1</th>\n",
       "      <td>53cdb2fc8bc7dce0b6741e2150273451</td>\n",
       "      <td>b0830fb4747a6c6d20dea0b8c802d7ef</td>\n",
       "      <td>delivered</td>\n",
       "      <td>2018-07-24 20:41:37</td>\n",
       "      <td>2018-07-26 03:24:27</td>\n",
       "      <td>2018-07-26 14:31:00</td>\n",
       "      <td>2018-08-07 15:27:45</td>\n",
       "      <td>2018-08-13 00:00:00</td>\n",
       "      <td>boleto</td>\n",
       "      <td>1.0</td>\n",
       "      <td>...</td>\n",
       "      <td>1.0</td>\n",
       "      <td>400.0</td>\n",
       "      <td>19.0</td>\n",
       "      <td>13.0</td>\n",
       "      <td>19.0</td>\n",
       "      <td>31570.0</td>\n",
       "      <td>belo horizonte</td>\n",
       "      <td>SP</td>\n",
       "      <td>-19.807681</td>\n",
       "      <td>-43.980427</td>\n",
       "    </tr>\n",
       "    <tr>\n",
       "      <th>2</th>\n",
       "      <td>47770eb9100c2d0c44946d9cf07ec65d</td>\n",
       "      <td>41ce2a54c0b03bf3443c3d931a367089</td>\n",
       "      <td>delivered</td>\n",
       "      <td>2018-08-08 08:38:49</td>\n",
       "      <td>2018-08-08 08:55:23</td>\n",
       "      <td>2018-08-08 13:50:00</td>\n",
       "      <td>2018-08-17 18:06:29</td>\n",
       "      <td>2018-09-04 00:00:00</td>\n",
       "      <td>credit_card</td>\n",
       "      <td>3.0</td>\n",
       "      <td>...</td>\n",
       "      <td>1.0</td>\n",
       "      <td>420.0</td>\n",
       "      <td>24.0</td>\n",
       "      <td>19.0</td>\n",
       "      <td>21.0</td>\n",
       "      <td>14840.0</td>\n",
       "      <td>guariba</td>\n",
       "      <td>SP</td>\n",
       "      <td>-21.363502</td>\n",
       "      <td>-48.229601</td>\n",
       "    </tr>\n",
       "    <tr>\n",
       "      <th>3</th>\n",
       "      <td>949d5b44dbf5de918fe9c16f97b45f8a</td>\n",
       "      <td>f88197465ea7920adcdbec7375364d82</td>\n",
       "      <td>delivered</td>\n",
       "      <td>2017-11-18 19:28:06</td>\n",
       "      <td>2017-11-18 19:45:59</td>\n",
       "      <td>2017-11-22 13:39:59</td>\n",
       "      <td>2017-12-02 00:28:42</td>\n",
       "      <td>2017-12-15 00:00:00</td>\n",
       "      <td>credit_card</td>\n",
       "      <td>1.0</td>\n",
       "      <td>...</td>\n",
       "      <td>3.0</td>\n",
       "      <td>450.0</td>\n",
       "      <td>30.0</td>\n",
       "      <td>10.0</td>\n",
       "      <td>20.0</td>\n",
       "      <td>31842.0</td>\n",
       "      <td>belo horizonte</td>\n",
       "      <td>MG</td>\n",
       "      <td>-19.837682</td>\n",
       "      <td>-43.924053</td>\n",
       "    </tr>\n",
       "    <tr>\n",
       "      <th>4</th>\n",
       "      <td>ad21c59c0840e6cb83a9ceb5573f8159</td>\n",
       "      <td>8ab97904e6daea8866dbdbc4fb7aad2c</td>\n",
       "      <td>delivered</td>\n",
       "      <td>2018-02-13 21:18:39</td>\n",
       "      <td>2018-02-13 22:20:29</td>\n",
       "      <td>2018-02-14 19:46:34</td>\n",
       "      <td>2018-02-16 18:17:02</td>\n",
       "      <td>2018-02-26 00:00:00</td>\n",
       "      <td>credit_card</td>\n",
       "      <td>1.0</td>\n",
       "      <td>...</td>\n",
       "      <td>4.0</td>\n",
       "      <td>250.0</td>\n",
       "      <td>51.0</td>\n",
       "      <td>15.0</td>\n",
       "      <td>15.0</td>\n",
       "      <td>8752.0</td>\n",
       "      <td>mogi das cruzes</td>\n",
       "      <td>SP</td>\n",
       "      <td>-23.543395</td>\n",
       "      <td>-46.262086</td>\n",
       "    </tr>\n",
       "  </tbody>\n",
       "</table>\n",
       "<p>5 rows × 36 columns</p>\n",
       "</div>"
      ],
      "text/plain": [
       "                           order_id                       customer_id  \\\n",
       "0  e481f51cbdc54678b7cc49136f2d6af7  9ef432eb6251297304e76186b10a928d   \n",
       "1  53cdb2fc8bc7dce0b6741e2150273451  b0830fb4747a6c6d20dea0b8c802d7ef   \n",
       "2  47770eb9100c2d0c44946d9cf07ec65d  41ce2a54c0b03bf3443c3d931a367089   \n",
       "3  949d5b44dbf5de918fe9c16f97b45f8a  f88197465ea7920adcdbec7375364d82   \n",
       "4  ad21c59c0840e6cb83a9ceb5573f8159  8ab97904e6daea8866dbdbc4fb7aad2c   \n",
       "\n",
       "  order_status order_purchase_timestamp    order_approved_at  \\\n",
       "0    delivered      2017-10-02 10:56:33  2017-10-02 11:07:15   \n",
       "1    delivered      2018-07-24 20:41:37  2018-07-26 03:24:27   \n",
       "2    delivered      2018-08-08 08:38:49  2018-08-08 08:55:23   \n",
       "3    delivered      2017-11-18 19:28:06  2017-11-18 19:45:59   \n",
       "4    delivered      2018-02-13 21:18:39  2018-02-13 22:20:29   \n",
       "\n",
       "  order_delivered_carrier_date order_delivered_customer_date  \\\n",
       "0          2017-10-04 19:55:00           2017-10-10 21:25:13   \n",
       "1          2018-07-26 14:31:00           2018-08-07 15:27:45   \n",
       "2          2018-08-08 13:50:00           2018-08-17 18:06:29   \n",
       "3          2017-11-22 13:39:59           2017-12-02 00:28:42   \n",
       "4          2018-02-14 19:46:34           2018-02-16 18:17:02   \n",
       "\n",
       "  order_estimated_delivery_date payment_type  payment_installments  ...  \\\n",
       "0           2017-10-18 00:00:00  credit_card                   1.0  ...   \n",
       "1           2018-08-13 00:00:00       boleto                   1.0  ...   \n",
       "2           2018-09-04 00:00:00  credit_card                   3.0  ...   \n",
       "3           2017-12-15 00:00:00  credit_card                   1.0  ...   \n",
       "4           2018-02-26 00:00:00  credit_card                   1.0  ...   \n",
       "\n",
       "   product_photos_qty  product_weight_g product_length_cm  product_height_cm  \\\n",
       "0                 4.0             500.0              19.0                8.0   \n",
       "1                 1.0             400.0              19.0               13.0   \n",
       "2                 1.0             420.0              24.0               19.0   \n",
       "3                 3.0             450.0              30.0               10.0   \n",
       "4                 4.0             250.0              51.0               15.0   \n",
       "\n",
       "  product_width_cm seller_zip_code_prefix      seller_city  seller_state  \\\n",
       "0             13.0                 9350.0             maua            SP   \n",
       "1             19.0                31570.0   belo horizonte            SP   \n",
       "2             21.0                14840.0          guariba            SP   \n",
       "3             20.0                31842.0   belo horizonte            MG   \n",
       "4             15.0                 8752.0  mogi das cruzes            SP   \n",
       "\n",
       "  seller_geolocation_lat seller_geolocation_lng  \n",
       "0             -23.680729             -46.444238  \n",
       "1             -19.807681             -43.980427  \n",
       "2             -21.363502             -48.229601  \n",
       "3             -19.837682             -43.924053  \n",
       "4             -23.543395             -46.262086  \n",
       "\n",
       "[5 rows x 36 columns]"
      ]
     },
     "execution_count": 13,
     "metadata": {},
     "output_type": "execute_result"
    }
   ],
   "source": [
    "orders_merge.head()"
   ]
  },
  {
   "cell_type": "markdown",
   "metadata": {},
   "source": [
    "On sauvegare le fichier final à la racine du projet, afin de le réutiliser dans les notebooks suivants"
   ]
  },
  {
   "cell_type": "code",
   "execution_count": 12,
   "metadata": {},
   "outputs": [],
   "source": [
    "orders_merge.to_csv('merge.csv', index=False)"
   ]
  }
 ],
 "metadata": {
  "interpreter": {
   "hash": "a50ccb92e890b7b6eda50e12a77437cd970ffed0e6764f486675a0423355b7f1"
  },
  "kernelspec": {
   "display_name": "Python 3",
   "language": "python",
   "name": "python3"
  },
  "language_info": {
   "codemirror_mode": {
    "name": "ipython",
    "version": 3
   },
   "file_extension": ".py",
   "mimetype": "text/x-python",
   "name": "python",
   "nbconvert_exporter": "python",
   "pygments_lexer": "ipython3",
   "version": "3.9.7"
  },
  "widgets": {
   "application/vnd.jupyter.widget-state+json": {
    "state": {},
    "version_major": 2,
    "version_minor": 0
   }
  }
 },
 "nbformat": 4,
 "nbformat_minor": 2
}
